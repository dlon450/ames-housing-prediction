{
 "cells": [
  {
   "cell_type": "markdown",
   "id": "removable-advocacy",
   "metadata": {},
   "source": [
    "# Ames House Sale Price Data Cleaning and Prediction\n",
    "Derek Long, 06/05/2021"
   ]
  },
  {
   "cell_type": "code",
   "execution_count": 1,
   "id": "blind-protection",
   "metadata": {},
   "outputs": [],
   "source": [
    "import warnings\n",
    "warnings.simplefilter(action='ignore', category=FutureWarning)"
   ]
  },
  {
   "cell_type": "code",
   "execution_count": 2,
   "id": "strategic-uruguay",
   "metadata": {},
   "outputs": [
    {
     "name": "stdout",
     "output_type": "stream",
     "text": [
      "C:\\Users\\longd\\AppData\\Local\\conda\\conda\\envs\\term121x_env\\python.exe\n",
      "{'numpy': '1.20.1', 'pandas': '1.1.3', 'seaborn': '0.11.0', 'sklearn': '0.23.2', 'matplotlib': '3.3.1'}\n"
     ]
    }
   ],
   "source": [
    "import numpy as np\n",
    "import pandas as pd\n",
    "import matplotlib.pyplot as plt\n",
    "import seaborn as sns\n",
    "import os.path as path\n",
    "sns.set()\n",
    "\n",
    "import dslab"
   ]
  },
  {
   "cell_type": "code",
   "execution_count": 3,
   "id": "announced-boards",
   "metadata": {},
   "outputs": [],
   "source": [
    "%matplotlib inline\n",
    "%load_ext autoreload\n",
    "%autoreload 2"
   ]
  },
  {
   "cell_type": "markdown",
   "id": "terminal-chemical",
   "metadata": {},
   "source": [
    "## 1. Loading data"
   ]
  },
  {
   "cell_type": "code",
   "execution_count": 4,
   "id": "distinguished-phoenix",
   "metadata": {},
   "outputs": [
    {
     "name": "stdout",
     "output_type": "stream",
     "text": [
      "<class 'pandas.core.frame.DataFrame'>\n",
      "Int64Index: 1459 entries, 1461 to 2919\n",
      "Data columns (total 79 columns):\n",
      " #   Column         Non-Null Count  Dtype  \n",
      "---  ------         --------------  -----  \n",
      " 0   MSSubClass     1459 non-null   int64  \n",
      " 1   MSZoning       1455 non-null   object \n",
      " 2   LotFrontage    1232 non-null   float64\n",
      " 3   LotArea        1459 non-null   int64  \n",
      " 4   Street         1459 non-null   object \n",
      " 5   Alley          107 non-null    object \n",
      " 6   LotShape       1459 non-null   object \n",
      " 7   LandContour    1459 non-null   object \n",
      " 8   Utilities      1457 non-null   object \n",
      " 9   LotConfig      1459 non-null   object \n",
      " 10  LandSlope      1459 non-null   object \n",
      " 11  Neighborhood   1459 non-null   object \n",
      " 12  Condition1     1459 non-null   object \n",
      " 13  Condition2     1459 non-null   object \n",
      " 14  BldgType       1459 non-null   object \n",
      " 15  HouseStyle     1459 non-null   object \n",
      " 16  OverallQual    1459 non-null   int64  \n",
      " 17  OverallCond    1459 non-null   int64  \n",
      " 18  YearBuilt      1459 non-null   int64  \n",
      " 19  YearRemodAdd   1459 non-null   int64  \n",
      " 20  RoofStyle      1459 non-null   object \n",
      " 21  RoofMatl       1459 non-null   object \n",
      " 22  Exterior1st    1458 non-null   object \n",
      " 23  Exterior2nd    1458 non-null   object \n",
      " 24  MasVnrType     1443 non-null   object \n",
      " 25  MasVnrArea     1444 non-null   float64\n",
      " 26  ExterQual      1459 non-null   object \n",
      " 27  ExterCond      1459 non-null   object \n",
      " 28  Foundation     1459 non-null   object \n",
      " 29  BsmtQual       1415 non-null   object \n",
      " 30  BsmtCond       1414 non-null   object \n",
      " 31  BsmtExposure   1415 non-null   object \n",
      " 32  BsmtFinType1   1417 non-null   object \n",
      " 33  BsmtFinSF1     1458 non-null   float64\n",
      " 34  BsmtFinType2   1417 non-null   object \n",
      " 35  BsmtFinSF2     1458 non-null   float64\n",
      " 36  BsmtUnfSF      1458 non-null   float64\n",
      " 37  TotalBsmtSF    1458 non-null   float64\n",
      " 38  Heating        1459 non-null   object \n",
      " 39  HeatingQC      1459 non-null   object \n",
      " 40  CentralAir     1459 non-null   object \n",
      " 41  Electrical     1459 non-null   object \n",
      " 42  1stFlrSF       1459 non-null   int64  \n",
      " 43  2ndFlrSF       1459 non-null   int64  \n",
      " 44  LowQualFinSF   1459 non-null   int64  \n",
      " 45  GrLivArea      1459 non-null   int64  \n",
      " 46  BsmtFullBath   1457 non-null   float64\n",
      " 47  BsmtHalfBath   1457 non-null   float64\n",
      " 48  FullBath       1459 non-null   int64  \n",
      " 49  HalfBath       1459 non-null   int64  \n",
      " 50  BedroomAbvGr   1459 non-null   int64  \n",
      " 51  KitchenAbvGr   1459 non-null   int64  \n",
      " 52  KitchenQual    1458 non-null   object \n",
      " 53  TotRmsAbvGrd   1459 non-null   int64  \n",
      " 54  Functional     1457 non-null   object \n",
      " 55  Fireplaces     1459 non-null   int64  \n",
      " 56  FireplaceQu    729 non-null    object \n",
      " 57  GarageType     1383 non-null   object \n",
      " 58  GarageYrBlt    1381 non-null   float64\n",
      " 59  GarageFinish   1381 non-null   object \n",
      " 60  GarageCars     1458 non-null   float64\n",
      " 61  GarageArea     1458 non-null   float64\n",
      " 62  GarageQual     1381 non-null   object \n",
      " 63  GarageCond     1381 non-null   object \n",
      " 64  PavedDrive     1459 non-null   object \n",
      " 65  WoodDeckSF     1459 non-null   int64  \n",
      " 66  OpenPorchSF    1459 non-null   int64  \n",
      " 67  EnclosedPorch  1459 non-null   int64  \n",
      " 68  3SsnPorch      1459 non-null   int64  \n",
      " 69  ScreenPorch    1459 non-null   int64  \n",
      " 70  PoolArea       1459 non-null   int64  \n",
      " 71  PoolQC         3 non-null      object \n",
      " 72  Fence          290 non-null    object \n",
      " 73  MiscFeature    51 non-null     object \n",
      " 74  MiscVal        1459 non-null   int64  \n",
      " 75  MoSold         1459 non-null   int64  \n",
      " 76  YrSold         1459 non-null   int64  \n",
      " 77  SaleType       1458 non-null   object \n",
      " 78  SaleCondition  1459 non-null   object \n",
      "dtypes: float64(11), int64(25), object(43)\n",
      "memory usage: 911.9+ KB\n"
     ]
    }
   ],
   "source": [
    "def split_features_labels(fn='train.csv', target_col=None):\n",
    "    df = pd.read_csv(path.join('Data',fn), index_col=0)\n",
    "    if target_col is not None:\n",
    "        df = df[(df.GrLivArea < 4000) & (df.LotArea < 30000) & (df.WoodDeckSF < 400)] # filter some outliers\n",
    "        df = df[df['YearRemodAdd'] >= df['YearBuilt']]\n",
    "        X = df.drop(target_col, axis=1)\n",
    "        y = df[target_col].copy()\n",
    "        return X, y\n",
    "    else:\n",
    "        return df\n",
    "\n",
    "# loading in the datasets\n",
    "train_df, train_df_labels = split_features_labels(target_col='SalePrice')\n",
    "test_df = split_features_labels('test.csv')\n",
    "train_df_labels_logged = np.log(train_df_labels)\n",
    "\n",
    "test_df.info()"
   ]
  },
  {
   "cell_type": "markdown",
   "id": "domestic-narrative",
   "metadata": {},
   "source": [
    "## 2. Transformations"
   ]
  },
  {
   "cell_type": "markdown",
   "id": "sealed-tuning",
   "metadata": {},
   "source": [
    "### 2.1 Splitting into numerical and categorical features"
   ]
  },
  {
   "cell_type": "code",
   "execution_count": 5,
   "id": "occasional-thriller",
   "metadata": {},
   "outputs": [],
   "source": [
    "def clean_split(df):\n",
    "    '''\n",
    "    Clean data and split into numeric and categorical features\n",
    "    '''\n",
    "    cleaned_df = df.copy()\n",
    "    \n",
    "    # create some new features\n",
    "    binary = ['2ndFlrSF', 'Fireplaces', 'WoodDeckSF', 'GarageArea']\n",
    "    for f in binary:\n",
    "        new_colname = 'Has'+f\n",
    "        cleaned_df[new_colname] = cleaned_df[f].apply(lambda x: 1 if x > 0 else 0)\n",
    "    cleaned_df['HasRemod'] = cleaned_df['YearRemodAdd'] != cleaned_df['YearBuilt']\n",
    "    \n",
    "    cleaned_df['HouseAge'] = cleaned_df['YrSold'] - cleaned_df['YearBuilt']\n",
    "    cleaned_df['YrsSinceRemod'] = cleaned_df['YrSold'] - cleaned_df['YearRemodAdd']\n",
    "    \n",
    "    # create new total square feet feature\n",
    "    cleaned_df['TotalSF'] = cleaned_df['GrLivArea'] + cleaned_df['TotalBsmtSF']\n",
    "    \n",
    "    # remove features with significant missing values, ones that add to another (dependent), ones with low correlation with target\n",
    "    drop_cols = ['PoolQC', 'MiscFeature', 'Alley', 'Fence', 'FireplaceQu', 'LotFrontage', '1stFlrSF', '2ndFlrSF',\n",
    "                'LowQualFinSF', 'BsmtFinSF1', 'BsmtFinSF2', 'BsmtUnfSF', '3SsnPorch', 'MiscVal', 'PoolArea', 'BsmtHalfBath',\n",
    "                'BsmtFinType2', 'ExterCond', 'ExterQual', 'LandSlope', 'MoSold', 'YrSold', 'Utilities', 'GrLivArea', 'TotalBsmtSF',\n",
    "                'Exterior1st', 'Exterior2nd', 'MSSubClass', 'MSZoning', 'GarageType', 'LandContour', 'LotConfig', 'MasVnrType',\n",
    "                'RoofMatl', 'RoofStyle', 'Street', 'OpenPorchSF', 'EnclosedPorch', 'ScreenPorch', 'GarageYrBlt', 'GarageArea',\n",
    "                'MasVnrArea', 'Heating', 'HeatingQC', 'HouseStyle', 'SaleType', 'YearRemodAdd', 'YearBuilt', 'TotRmsAbvGrd']\n",
    "    cleaned_df = cleaned_df.drop(drop_cols, axis=1)\n",
    "    \n",
    "    # convert numerical features that should be categorical\n",
    "    numeric_features = cleaned_df.select_dtypes(exclude='object')\n",
    "    categorical_features = cleaned_df.select_dtypes(include='object')\n",
    "    return numeric_features, categorical_features"
   ]
  },
  {
   "cell_type": "markdown",
   "id": "finished-trauma",
   "metadata": {},
   "source": [
    "### 2.2 Preprocessing numerical features"
   ]
  },
  {
   "cell_type": "code",
   "execution_count": 6,
   "id": "opposite-labor",
   "metadata": {},
   "outputs": [],
   "source": [
    "def preprocess_num(num_features, num_pipeline, train):    \n",
    "    if train:\n",
    "        return pd.DataFrame(num_pipeline.fit_transform(num_features), columns=num_features.columns, index=num_features.index)\n",
    "    else:\n",
    "        return pd.DataFrame(num_pipeline.transform(num_features), columns=num_features.columns, index=num_features.index)"
   ]
  },
  {
   "cell_type": "markdown",
   "id": "original-scholarship",
   "metadata": {},
   "source": [
    "### 2.3 Preprocessing categorical features"
   ]
  },
  {
   "cell_type": "code",
   "execution_count": 7,
   "id": "ordinary-numbers",
   "metadata": {
    "scrolled": true
   },
   "outputs": [],
   "source": [
    "def add_missing_dummy_columns(d, columns):\n",
    "    missing_cols = set(columns) - set(d.columns)\n",
    "    for c in missing_cols:\n",
    "        d[c] = 0\n",
    "\n",
    "def fix_columns(d, columns):  \n",
    "    add_missing_dummy_columns(d, columns)\n",
    "    # make sure we have all the columns we need\n",
    "    assert(set(columns) - set(d.columns) == set())\n",
    "    extra_cols = set(d.columns) - set(columns)\n",
    "    d = d[columns]\n",
    "    return d\n",
    "\n",
    "def preprocess_cat(cat_features, steps, train):\n",
    "    if train:\n",
    "        cat_features = pd.DataFrame(steps[0].fit_transform(cat_features), columns=cat_features.columns,\n",
    "                                        index=cat_features.index)\n",
    "        cat1hot = pd.get_dummies(cat_features)\n",
    "        steps[1] = cat1hot.columns\n",
    "        return cat1hot\n",
    "    else:\n",
    "        cat_features = pd.DataFrame(steps[0].transform(cat_features), columns=cat_features.columns,\n",
    "                                        index=cat_features.index)\n",
    "        cat_features = fix_columns(cat_features, steps[1])\n",
    "        cat1hot = pd.get_dummies(cat_features)\n",
    "        return cat1hot"
   ]
  },
  {
   "cell_type": "markdown",
   "id": "forty-caution",
   "metadata": {},
   "source": [
    "### 2.4 Combine features"
   ]
  },
  {
   "cell_type": "code",
   "execution_count": 8,
   "id": "romantic-flesh",
   "metadata": {
    "scrolled": true
   },
   "outputs": [],
   "source": [
    "def combine_features(num_features_transformed, cat_features_1hot):\n",
    "    return pd.concat([num_features_transformed, cat_features_1hot], axis=1)"
   ]
  },
  {
   "cell_type": "markdown",
   "id": "eligible-pillow",
   "metadata": {},
   "source": [
    "### 2.5 Execute preprocessing steps"
   ]
  },
  {
   "cell_type": "code",
   "execution_count": 9,
   "id": "wired-project",
   "metadata": {
    "scrolled": true
   },
   "outputs": [
    {
     "data": {
      "text/html": [
       "<div>\n",
       "<style scoped>\n",
       "    .dataframe tbody tr th:only-of-type {\n",
       "        vertical-align: middle;\n",
       "    }\n",
       "\n",
       "    .dataframe tbody tr th {\n",
       "        vertical-align: top;\n",
       "    }\n",
       "\n",
       "    .dataframe thead th {\n",
       "        text-align: right;\n",
       "    }\n",
       "</style>\n",
       "<table border=\"1\" class=\"dataframe\">\n",
       "  <thead>\n",
       "    <tr style=\"text-align: right;\">\n",
       "      <th></th>\n",
       "      <th>LotArea</th>\n",
       "      <th>OverallQual</th>\n",
       "      <th>OverallCond</th>\n",
       "      <th>BsmtFullBath</th>\n",
       "      <th>FullBath</th>\n",
       "      <th>HalfBath</th>\n",
       "      <th>BedroomAbvGr</th>\n",
       "      <th>KitchenAbvGr</th>\n",
       "      <th>Fireplaces</th>\n",
       "      <th>GarageCars</th>\n",
       "      <th>...</th>\n",
       "      <th>GarageCond_TA</th>\n",
       "      <th>PavedDrive_N</th>\n",
       "      <th>PavedDrive_P</th>\n",
       "      <th>PavedDrive_Y</th>\n",
       "      <th>SaleCondition_Abnorml</th>\n",
       "      <th>SaleCondition_AdjLand</th>\n",
       "      <th>SaleCondition_Alloca</th>\n",
       "      <th>SaleCondition_Family</th>\n",
       "      <th>SaleCondition_Normal</th>\n",
       "      <th>SaleCondition_Partial</th>\n",
       "    </tr>\n",
       "    <tr>\n",
       "      <th>Order</th>\n",
       "      <th></th>\n",
       "      <th></th>\n",
       "      <th></th>\n",
       "      <th></th>\n",
       "      <th></th>\n",
       "      <th></th>\n",
       "      <th></th>\n",
       "      <th></th>\n",
       "      <th></th>\n",
       "      <th></th>\n",
       "      <th></th>\n",
       "      <th></th>\n",
       "      <th></th>\n",
       "      <th></th>\n",
       "      <th></th>\n",
       "      <th></th>\n",
       "      <th></th>\n",
       "      <th></th>\n",
       "      <th></th>\n",
       "      <th></th>\n",
       "      <th></th>\n",
       "    </tr>\n",
       "  </thead>\n",
       "  <tbody>\n",
       "    <tr>\n",
       "      <th>1474</th>\n",
       "      <td>-0.297294</td>\n",
       "      <td>0.678038</td>\n",
       "      <td>-0.518508</td>\n",
       "      <td>1.150248</td>\n",
       "      <td>0.815660</td>\n",
       "      <td>1.233982</td>\n",
       "      <td>0.177841</td>\n",
       "      <td>-0.21426</td>\n",
       "      <td>-0.934559</td>\n",
       "      <td>0.332567</td>\n",
       "      <td>...</td>\n",
       "      <td>1</td>\n",
       "      <td>0</td>\n",
       "      <td>0</td>\n",
       "      <td>1</td>\n",
       "      <td>0</td>\n",
       "      <td>0</td>\n",
       "      <td>0</td>\n",
       "      <td>0</td>\n",
       "      <td>1</td>\n",
       "      <td>0</td>\n",
       "    </tr>\n",
       "    <tr>\n",
       "      <th>1860</th>\n",
       "      <td>0.001702</td>\n",
       "      <td>-0.056634</td>\n",
       "      <td>2.188682</td>\n",
       "      <td>-0.803083</td>\n",
       "      <td>0.815660</td>\n",
       "      <td>-0.755441</td>\n",
       "      <td>0.177841</td>\n",
       "      <td>-0.21426</td>\n",
       "      <td>0.656349</td>\n",
       "      <td>0.332567</td>\n",
       "      <td>...</td>\n",
       "      <td>1</td>\n",
       "      <td>0</td>\n",
       "      <td>0</td>\n",
       "      <td>1</td>\n",
       "      <td>0</td>\n",
       "      <td>0</td>\n",
       "      <td>0</td>\n",
       "      <td>0</td>\n",
       "      <td>1</td>\n",
       "      <td>0</td>\n",
       "    </tr>\n",
       "    <tr>\n",
       "      <th>1444</th>\n",
       "      <td>0.430696</td>\n",
       "      <td>0.678038</td>\n",
       "      <td>-0.518508</td>\n",
       "      <td>1.150248</td>\n",
       "      <td>0.815660</td>\n",
       "      <td>1.233982</td>\n",
       "      <td>0.177841</td>\n",
       "      <td>-0.21426</td>\n",
       "      <td>0.656349</td>\n",
       "      <td>0.332567</td>\n",
       "      <td>...</td>\n",
       "      <td>1</td>\n",
       "      <td>0</td>\n",
       "      <td>0</td>\n",
       "      <td>1</td>\n",
       "      <td>0</td>\n",
       "      <td>0</td>\n",
       "      <td>0</td>\n",
       "      <td>0</td>\n",
       "      <td>1</td>\n",
       "      <td>0</td>\n",
       "    </tr>\n",
       "    <tr>\n",
       "      <th>2858</th>\n",
       "      <td>-0.011298</td>\n",
       "      <td>0.678038</td>\n",
       "      <td>-0.518508</td>\n",
       "      <td>1.150248</td>\n",
       "      <td>-1.024501</td>\n",
       "      <td>-0.755441</td>\n",
       "      <td>0.177841</td>\n",
       "      <td>-0.21426</td>\n",
       "      <td>0.656349</td>\n",
       "      <td>1.671437</td>\n",
       "      <td>...</td>\n",
       "      <td>1</td>\n",
       "      <td>0</td>\n",
       "      <td>0</td>\n",
       "      <td>1</td>\n",
       "      <td>1</td>\n",
       "      <td>0</td>\n",
       "      <td>0</td>\n",
       "      <td>0</td>\n",
       "      <td>0</td>\n",
       "      <td>0</td>\n",
       "    </tr>\n",
       "    <tr>\n",
       "      <th>1101</th>\n",
       "      <td>1.213286</td>\n",
       "      <td>1.412711</td>\n",
       "      <td>-0.518508</td>\n",
       "      <td>1.150248</td>\n",
       "      <td>0.815660</td>\n",
       "      <td>1.233982</td>\n",
       "      <td>1.411283</td>\n",
       "      <td>-0.21426</td>\n",
       "      <td>0.656349</td>\n",
       "      <td>1.671437</td>\n",
       "      <td>...</td>\n",
       "      <td>1</td>\n",
       "      <td>0</td>\n",
       "      <td>0</td>\n",
       "      <td>1</td>\n",
       "      <td>0</td>\n",
       "      <td>0</td>\n",
       "      <td>0</td>\n",
       "      <td>0</td>\n",
       "      <td>1</td>\n",
       "      <td>0</td>\n",
       "    </tr>\n",
       "  </tbody>\n",
       "</table>\n",
       "<p>5 rows × 134 columns</p>\n",
       "</div>"
      ],
      "text/plain": [
       "        LotArea  OverallQual  OverallCond  BsmtFullBath  FullBath  HalfBath  \\\n",
       "Order                                                                         \n",
       "1474  -0.297294     0.678038    -0.518508      1.150248  0.815660  1.233982   \n",
       "1860   0.001702    -0.056634     2.188682     -0.803083  0.815660 -0.755441   \n",
       "1444   0.430696     0.678038    -0.518508      1.150248  0.815660  1.233982   \n",
       "2858  -0.011298     0.678038    -0.518508      1.150248 -1.024501 -0.755441   \n",
       "1101   1.213286     1.412711    -0.518508      1.150248  0.815660  1.233982   \n",
       "\n",
       "       BedroomAbvGr  KitchenAbvGr  Fireplaces  GarageCars  ...  GarageCond_TA  \\\n",
       "Order                                                      ...                  \n",
       "1474       0.177841      -0.21426   -0.934559    0.332567  ...              1   \n",
       "1860       0.177841      -0.21426    0.656349    0.332567  ...              1   \n",
       "1444       0.177841      -0.21426    0.656349    0.332567  ...              1   \n",
       "2858       0.177841      -0.21426    0.656349    1.671437  ...              1   \n",
       "1101       1.411283      -0.21426    0.656349    1.671437  ...              1   \n",
       "\n",
       "       PavedDrive_N  PavedDrive_P  PavedDrive_Y  SaleCondition_Abnorml  \\\n",
       "Order                                                                    \n",
       "1474              0             0             1                      0   \n",
       "1860              0             0             1                      0   \n",
       "1444              0             0             1                      0   \n",
       "2858              0             0             1                      1   \n",
       "1101              0             0             1                      0   \n",
       "\n",
       "       SaleCondition_AdjLand  SaleCondition_Alloca  SaleCondition_Family  \\\n",
       "Order                                                                      \n",
       "1474                       0                     0                     0   \n",
       "1860                       0                     0                     0   \n",
       "1444                       0                     0                     0   \n",
       "2858                       0                     0                     0   \n",
       "1101                       0                     0                     0   \n",
       "\n",
       "       SaleCondition_Normal  SaleCondition_Partial  \n",
       "Order                                               \n",
       "1474                      1                      0  \n",
       "1860                      1                      0  \n",
       "1444                      1                      0  \n",
       "2858                      0                      0  \n",
       "1101                      1                      0  \n",
       "\n",
       "[5 rows x 134 columns]"
      ]
     },
     "execution_count": 9,
     "metadata": {},
     "output_type": "execute_result"
    }
   ],
   "source": [
    "from sklearn.experimental import enable_iterative_imputer\n",
    "from sklearn.impute import IterativeImputer\n",
    "from sklearn.impute import KNNImputer\n",
    "from sklearn.impute import SimpleImputer\n",
    "from sklearn.pipeline import Pipeline\n",
    "from sklearn.preprocessing import StandardScaler\n",
    "from sklearn.preprocessing import LabelBinarizer\n",
    "from sklearn.preprocessing import LabelEncoder\n",
    "from sklearn.preprocessing import OneHotEncoder\n",
    "from sklearn.preprocessing import FunctionTransformer\n",
    "\n",
    "pd.options.mode.chained_assignment = None  # default='warn'\n",
    "\n",
    "def preprocessing(df, num_pipeline, cat_pipeline_steps, train=True):\n",
    "    num_features, cat_features = clean_split(df)\n",
    "    num_features_transformed = preprocess_num(num_features, num_pipeline, train)\n",
    "    cat_features_1hot = preprocess_cat(cat_features, cat_pipeline_steps, train)\n",
    "    return combine_features(num_features_transformed, cat_features_1hot)\n",
    "\n",
    "num_pipeline = Pipeline([\n",
    "    ('imputer', KNNImputer(n_neighbors=100, weights='distance')),\n",
    "    ('std_scaler', StandardScaler()),\n",
    "])\n",
    "    \n",
    "cat_pipeline_steps = [\n",
    "    SimpleImputer(missing_values=np.nan, strategy='most_frequent'),\n",
    "    [] # one hot encoding columns\n",
    "]\n",
    "\n",
    "new_train_df = preprocessing(train_df, num_pipeline, cat_pipeline_steps)\n",
    "new_test_df = preprocessing(test_df, num_pipeline, cat_pipeline_steps, train=False)\n",
    "new_train_df.head()"
   ]
  },
  {
   "cell_type": "markdown",
   "id": "southeast-dominican",
   "metadata": {},
   "source": [
    "## 3. Optimising Hyperparameters"
   ]
  },
  {
   "cell_type": "code",
   "execution_count": 76,
   "id": "parallel-salad",
   "metadata": {},
   "outputs": [],
   "source": [
    "from sklearn.ensemble import RandomForestRegressor\n",
    "from sklearn.metrics import mean_squared_error\n",
    "from sklearn.model_selection import train_test_split, GridSearchCV, KFold, RepeatedKFold\n",
    "from sklearn.linear_model import Ridge, Lasso, ElasticNet\n",
    "from sklearn.svm import SVR\n",
    "\n",
    "np.random.seed(2)\n",
    "X = new_train_df.to_numpy()\n",
    "y = train_df_labels_logged.to_numpy()\n",
    "X_test_unknown = new_test_df.to_numpy()\n",
    "\n",
    "def cross_validation(X, y, clf, n_splits=10, n_repeats=10):\n",
    "    \n",
    "    cv = RepeatedKFold(n_splits=n_splits, n_repeats=n_repeats, random_state=346511053)\n",
    "    rmse = list()\n",
    "    for train_index, test_index in cv.split(X):\n",
    "        clf.fit(X[train_index], y[train_index])\n",
    "        y_pred = clf.predict(X[test_index])\n",
    "        rmse.append(np.sqrt(mean_squared_error(np.exp(y_pred), np.exp(y[test_index]))))\n",
    "    return np.mean(rmse), np.std(rmse)\n",
    "\n",
    "def plot_metrics(X, y, parameter='alpha', parameter_values=np.arange(0.001, 1, 0.1), estimator=ElasticNet(), \n",
    "                 n_splits=10, n_repeats=10):\n",
    "    \n",
    "    mean_RMSE = {}\n",
    "    std_RMSE = {}\n",
    "    for p in parameter_values:\n",
    "        clf = estimator\n",
    "        setattr(clf, parameter, p)\n",
    "        mean, std = cross_validation(X, y, clf, n_splits, n_repeats)\n",
    "        mean_RMSE[p] = mean\n",
    "        std_RMSE[p] = std\n",
    "\n",
    "    _ = plt.errorbar(mean_RMSE.keys(), mean_RMSE.values(), std_RMSE.values())\n",
    "    plt.xlabel(parameter)\n",
    "    plt.ylabel('Mean RMSE')\n",
    "\n",
    "def best_predict(X, y, estimator=ElasticNet(), param_grid={'alpha': np.arange(0.001, 0.1, 0.01)}, \n",
    "                 cv=RepeatedKFold(n_splits=10, n_repeats=10), n_jobs=-1, show=True):\n",
    "\n",
    "    grid_search = GridSearchCV(\n",
    "        estimator=estimator,\n",
    "        param_grid=param_grid,\n",
    "        cv=cv,\n",
    "        n_jobs=n_jobs,\n",
    "    )\n",
    "    grid_search.fit(X, y)\n",
    "    clf = grid_search.best_estimator_.fit(X, y)\n",
    "    meanRMSE, stdRMSE = cross_validation(X, y, clf)\n",
    "    \n",
    "    if show:\n",
    "        print(grid_search.best_params_)\n",
    "        print('Mean RMSE:', meanRMSE, '\\nRMSE STD:', stdRMSE)\n",
    "        \n",
    "    return clf, meanRMSE, stdRMSE"
   ]
  },
  {
   "cell_type": "markdown",
   "id": "ignored-breathing",
   "metadata": {},
   "source": [
    "For each of the following regression algorithms, we will first try out a broad range of parameter values before narrowing down our search to a specific interval and optimising using GridSearchCV."
   ]
  },
  {
   "cell_type": "markdown",
   "id": "dominican-supervisor",
   "metadata": {},
   "source": [
    "### 3.1 Elastic Net"
   ]
  },
  {
   "cell_type": "code",
   "execution_count": 64,
   "id": "ordinary-crack",
   "metadata": {},
   "outputs": [
    {
     "data": {
      "image/png": "[encoded data removed]",
      "text/plain": [
       "<Figure size 432x288 with 1 Axes>"
      ]
     },
     "metadata": {
      "needs_background": "light"
     },
     "output_type": "display_data"
    }
   ],
   "source": [
    "plot_metrics(X, y)"
   ]
  },
  {
   "cell_type": "markdown",
   "id": "champion-roommate",
   "metadata": {},
   "source": [
    "The algorithm seems to perform better for small alpha (essentially ridge regression). We will look at an interval range from 0.01 to 0.1."
   ]
  },
  {
   "cell_type": "code",
   "execution_count": 65,
   "id": "ultimate-weekly",
   "metadata": {},
   "outputs": [
    {
     "name": "stdout",
     "output_type": "stream",
     "text": [
      "{'alpha': 0.001}\n",
      "Mean RMSE: 20389.216078628964 \n",
      "RMSE STD: 2835.2035087047248\n"
     ]
    }
   ],
   "source": [
    "clf_ElasticNet, mean, std = best_predict(X, y)"
   ]
  },
  {
   "cell_type": "markdown",
   "id": "banned-saturday",
   "metadata": {},
   "source": [
    "### 3.2 Ridge Regression\n",
    "From optimising the alpha value for Elastic Net, we see that as we get closer to 0, the model performs better. The is essentially performing ridge regression, so we should try it out as our regression algorithm. "
   ]
  },
  {
   "cell_type": "code",
   "execution_count": 93,
   "id": "rotary-administration",
   "metadata": {},
   "outputs": [
    {
     "data": {
      "image/png": "[encoded data removed]",
      "text/plain": [
       "<Figure size 432x288 with 1 Axes>"
      ]
     },
     "metadata": {
      "needs_background": "light"
     },
     "output_type": "display_data"
    }
   ],
   "source": [
    "plot_metrics(X, y, parameter_values=np.arange(1, 100, 5), estimator=Ridge())"
   ]
  },
  {
   "cell_type": "code",
   "execution_count": 94,
   "id": "minimal-exchange",
   "metadata": {
    "scrolled": true
   },
   "outputs": [
    {
     "name": "stdout",
     "output_type": "stream",
     "text": [
      "{'alpha': 10.199999999999978}\n",
      "Mean RMSE: 20421.549114861504 \n",
      "RMSE STD: 2817.514052950423\n"
     ]
    }
   ],
   "source": [
    "clf_Ridge, mean, std = best_predict(X, y, estimator=Ridge(), param_grid={'alpha': np.arange(4, 14, 0.1)})"
   ]
  },
  {
   "cell_type": "markdown",
   "id": "documentary-membrane",
   "metadata": {},
   "source": [
    "### 3.3 Support Vector Machine"
   ]
  },
  {
   "cell_type": "code",
   "execution_count": 83,
   "id": "understanding-resolution",
   "metadata": {},
   "outputs": [
    {
     "data": {
      "image/png": "[encoded data removed]",
      "text/plain": [
       "<Figure size 432x288 with 1 Axes>"
      ]
     },
     "metadata": {
      "needs_background": "light"
     },
     "output_type": "display_data"
    }
   ],
   "source": [
    "plot_metrics(X, y, parameter='degree', parameter_values=np.arange(1, 10, 1), estimator=SVR(kernel='poly'), \n",
    "             n_splits=5, n_repeats=5)"
   ]
  },
  {
   "cell_type": "code",
   "execution_count": 88,
   "id": "generic-invention",
   "metadata": {
    "scrolled": true
   },
   "outputs": [
    {
     "name": "stdout",
     "output_type": "stream",
     "text": [
      "{'degree': 1}\n",
      "Mean RMSE: 20570.35247135478 \n",
      "RMSE STD: 2802.40934408597\n"
     ]
    }
   ],
   "source": [
    "clf_RF, mean, std = best_predict(X, y, estimator=SVR(kernel='poly'), param_grid={'degree': np.arange(1, 6, 1)})"
   ]
  },
  {
   "cell_type": "markdown",
   "id": "handy-resolution",
   "metadata": {},
   "source": [
    "### 3.4 Predicting with best algorithm"
   ]
  },
  {
   "cell_type": "code",
   "execution_count": 105,
   "id": "sacred-interference",
   "metadata": {},
   "outputs": [
    {
     "data": {
      "text/html": [
       "<div>\n",
       "<style scoped>\n",
       "    .dataframe tbody tr th:only-of-type {\n",
       "        vertical-align: middle;\n",
       "    }\n",
       "\n",
       "    .dataframe tbody tr th {\n",
       "        vertical-align: top;\n",
       "    }\n",
       "\n",
       "    .dataframe thead th {\n",
       "        text-align: right;\n",
       "    }\n",
       "</style>\n",
       "<table border=\"1\" class=\"dataframe\">\n",
       "  <thead>\n",
       "    <tr style=\"text-align: right;\">\n",
       "      <th></th>\n",
       "      <th>SalePrice</th>\n",
       "    </tr>\n",
       "    <tr>\n",
       "      <th>Id</th>\n",
       "      <th></th>\n",
       "    </tr>\n",
       "  </thead>\n",
       "  <tbody>\n",
       "    <tr>\n",
       "      <th>1461</th>\n",
       "      <td>103670.788395</td>\n",
       "    </tr>\n",
       "    <tr>\n",
       "      <th>1462</th>\n",
       "      <td>138133.093985</td>\n",
       "    </tr>\n",
       "    <tr>\n",
       "      <th>1463</th>\n",
       "      <td>153636.731120</td>\n",
       "    </tr>\n",
       "    <tr>\n",
       "      <th>1464</th>\n",
       "      <td>170141.548766</td>\n",
       "    </tr>\n",
       "    <tr>\n",
       "      <th>1465</th>\n",
       "      <td>150971.502839</td>\n",
       "    </tr>\n",
       "  </tbody>\n",
       "</table>\n",
       "</div>"
      ],
      "text/plain": [
       "          SalePrice\n",
       "Id                 \n",
       "1461  103670.788395\n",
       "1462  138133.093985\n",
       "1463  153636.731120\n",
       "1464  170141.548766\n",
       "1465  150971.502839"
      ]
     },
     "execution_count": 105,
     "metadata": {},
     "output_type": "execute_result"
    }
   ],
   "source": [
    "pred_unknown_df = pd.DataFrame(np.exp(clf_Ridge.predict(X_test_unknown)), index=test_df.index)\n",
    "pred_unknown_df.columns = ['SalePrice']\n",
    "pred_unknown_df.to_csv('submission.csv')\n",
    "pred_unknown_df.head()"
   ]
  }
 ],
 "metadata": {
  "kernelspec": {
   "display_name": "term121x_env",
   "language": "python",
   "name": "term121x_env"
  },
  "language_info": {
   "codemirror_mode": {
    "name": "ipython",
    "version": 3
   },
   "file_extension": ".py",
   "mimetype": "text/x-python",
   "name": "python",
   "nbconvert_exporter": "python",
   "pygments_lexer": "ipython3",
   "version": "3.7.10"
  }
 },
 "nbformat": 4,
 "nbformat_minor": 5
}
